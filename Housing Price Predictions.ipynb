{
 "cells": [
  {
   "cell_type": "markdown",
   "metadata": {},
   "source": [
    "# Sydney Housing Price Prediction"
   ]
  },
  {
   "cell_type": "markdown",
   "metadata": {},
   "source": [
    "## Olivia Wang\n",
    "#### Packages: sklearn, matplotlib, seaborn, pandas, numpy\n",
    "#### Source: https://www.kaggle.com/shree1992/housedata"
   ]
  },
  {
   "cell_type": "code",
   "execution_count": 1,
   "metadata": {},
   "outputs": [],
   "source": [
    "import pandas as pd\n",
    "import numpy as np\n",
    "import seaborn as sns\n",
    "import matplotlib.pyplot as plt\n",
    "from sklearn.model_selection import train_test_split\n",
    "from sklearn.preprocessing import StandardScaler, OneHotEncoder\n",
    "from sklearn.linear_model import LogisticRegression, LinearRegression, Ridge, Lasso, ElasticNet\n",
    "from sklearn.model_selection import cross_val_score, GridSearchCV\n",
    "from sklearn.pipeline import make_pipeline, Pipeline\n",
    "from sklearn.compose import ColumnTransformer, make_column_transformer\n",
    "from sklearn import svm\n",
    "from sklearn.neighbors import KNeighborsClassifier as knn\n",
    "from sklearn.impute import SimpleImputer\n",
    "from category_encoders import TargetEncoder\n",
    "%matplotlib inline\n",
    "import warnings\n",
    "warnings.filterwarnings('ignore')"
   ]
  },
  {
   "cell_type": "code",
   "execution_count": 2,
   "metadata": {},
   "outputs": [
    {
     "name": "stdout",
     "output_type": "stream",
     "text": [
      "<class 'pandas.core.frame.DataFrame'>\n",
      "RangeIndex: 4600 entries, 0 to 4599\n",
      "Data columns (total 17 columns):\n",
      "price            4600 non-null float64\n",
      "bedrooms         4600 non-null float64\n",
      "bathrooms        4600 non-null float64\n",
      "sqft_living      4600 non-null int64\n",
      "sqft_lot         4600 non-null int64\n",
      "floors           4600 non-null float64\n",
      "waterfront       4600 non-null int64\n",
      "view             4600 non-null int64\n",
      "condition        4600 non-null int64\n",
      "sqft_above       4600 non-null int64\n",
      "sqft_basement    4600 non-null int64\n",
      "yr_built         4600 non-null int64\n",
      "yr_renovated     4600 non-null int64\n",
      "street           4600 non-null object\n",
      "city             4600 non-null object\n",
      "statezip         4600 non-null object\n",
      "country          4600 non-null object\n",
      "dtypes: float64(4), int64(9), object(4)\n",
      "memory usage: 611.1+ KB\n"
     ]
    }
   ],
   "source": [
    "df = pd.read_csv('data.csv')\n",
    "df = df.drop(columns=['date'])\n",
    "df.head()\n",
    "df.info()"
   ]
  },
  {
   "cell_type": "markdown",
   "metadata": {},
   "source": [
    "### 1.1 Determine which features are continuous vs categorical. Drop rows without a valid sales price."
   ]
  },
  {
   "cell_type": "code",
   "execution_count": 3,
   "metadata": {},
   "outputs": [
    {
     "name": "stdout",
     "output_type": "stream",
     "text": [
      "categorical variables: ['bedrooms', 'bathrooms', 'floors', 'waterfront', 'view', 'condition', 'street', 'city', 'statezip', 'country']\n",
      "continuous variables: ['sqft_living', 'sqft_lot', 'sqft_above', 'sqft_basement', 'yr_built', 'yr_renovated']\n"
     ]
    }
   ],
   "source": [
    "categorical_var = ['bedrooms','bathrooms','floors','waterfront',\n",
    "                   'view','condition','street','city','statezip','country']\n",
    "continuous_var = ['sqft_living','sqft_lot','sqft_above','sqft_basement','yr_built',\n",
    "                  'yr_renovated']\n",
    "for col in categorical_var:\n",
    "    df[col] = df[col].astype('object')\n",
    "print(f'categorical variables: {categorical_var}')\n",
    "print(f'continuous variables: {continuous_var}')"
   ]
  },
  {
   "cell_type": "code",
   "execution_count": 4,
   "metadata": {},
   "outputs": [
    {
     "data": {
      "text/html": [
       "<div>\n",
       "<style scoped>\n",
       "    .dataframe tbody tr th:only-of-type {\n",
       "        vertical-align: middle;\n",
       "    }\n",
       "\n",
       "    .dataframe tbody tr th {\n",
       "        vertical-align: top;\n",
       "    }\n",
       "\n",
       "    .dataframe thead th {\n",
       "        text-align: right;\n",
       "    }\n",
       "</style>\n",
       "<table border=\"1\" class=\"dataframe\">\n",
       "  <thead>\n",
       "    <tr style=\"text-align: right;\">\n",
       "      <th></th>\n",
       "      <th>bedrooms</th>\n",
       "      <th>bathrooms</th>\n",
       "      <th>sqft_living</th>\n",
       "      <th>sqft_lot</th>\n",
       "      <th>floors</th>\n",
       "      <th>waterfront</th>\n",
       "      <th>view</th>\n",
       "      <th>condition</th>\n",
       "      <th>sqft_above</th>\n",
       "      <th>sqft_basement</th>\n",
       "      <th>yr_built</th>\n",
       "      <th>yr_renovated</th>\n",
       "      <th>city</th>\n",
       "      <th>state</th>\n",
       "      <th>zip</th>\n",
       "    </tr>\n",
       "  </thead>\n",
       "  <tbody>\n",
       "    <tr>\n",
       "      <td>0</td>\n",
       "      <td>3</td>\n",
       "      <td>1.5</td>\n",
       "      <td>1340</td>\n",
       "      <td>7912</td>\n",
       "      <td>1.5</td>\n",
       "      <td>0</td>\n",
       "      <td>0</td>\n",
       "      <td>3</td>\n",
       "      <td>1340</td>\n",
       "      <td>0</td>\n",
       "      <td>1955</td>\n",
       "      <td>2005</td>\n",
       "      <td>Shoreline</td>\n",
       "      <td>WA</td>\n",
       "      <td>98133</td>\n",
       "    </tr>\n",
       "    <tr>\n",
       "      <td>1</td>\n",
       "      <td>5</td>\n",
       "      <td>2.5</td>\n",
       "      <td>3650</td>\n",
       "      <td>9050</td>\n",
       "      <td>2</td>\n",
       "      <td>0</td>\n",
       "      <td>4</td>\n",
       "      <td>5</td>\n",
       "      <td>3370</td>\n",
       "      <td>280</td>\n",
       "      <td>1921</td>\n",
       "      <td>0</td>\n",
       "      <td>Seattle</td>\n",
       "      <td>WA</td>\n",
       "      <td>98119</td>\n",
       "    </tr>\n",
       "    <tr>\n",
       "      <td>2</td>\n",
       "      <td>3</td>\n",
       "      <td>2</td>\n",
       "      <td>1930</td>\n",
       "      <td>11947</td>\n",
       "      <td>1</td>\n",
       "      <td>0</td>\n",
       "      <td>0</td>\n",
       "      <td>4</td>\n",
       "      <td>1930</td>\n",
       "      <td>0</td>\n",
       "      <td>1966</td>\n",
       "      <td>0</td>\n",
       "      <td>Kent</td>\n",
       "      <td>WA</td>\n",
       "      <td>98042</td>\n",
       "    </tr>\n",
       "    <tr>\n",
       "      <td>3</td>\n",
       "      <td>3</td>\n",
       "      <td>2.25</td>\n",
       "      <td>2000</td>\n",
       "      <td>8030</td>\n",
       "      <td>1</td>\n",
       "      <td>0</td>\n",
       "      <td>0</td>\n",
       "      <td>4</td>\n",
       "      <td>1000</td>\n",
       "      <td>1000</td>\n",
       "      <td>1963</td>\n",
       "      <td>0</td>\n",
       "      <td>Bellevue</td>\n",
       "      <td>WA</td>\n",
       "      <td>98008</td>\n",
       "    </tr>\n",
       "    <tr>\n",
       "      <td>4</td>\n",
       "      <td>4</td>\n",
       "      <td>2.5</td>\n",
       "      <td>1940</td>\n",
       "      <td>10500</td>\n",
       "      <td>1</td>\n",
       "      <td>0</td>\n",
       "      <td>0</td>\n",
       "      <td>4</td>\n",
       "      <td>1140</td>\n",
       "      <td>800</td>\n",
       "      <td>1976</td>\n",
       "      <td>1992</td>\n",
       "      <td>Redmond</td>\n",
       "      <td>WA</td>\n",
       "      <td>98052</td>\n",
       "    </tr>\n",
       "  </tbody>\n",
       "</table>\n",
       "</div>"
      ],
      "text/plain": [
       "  bedrooms bathrooms  sqft_living  sqft_lot floors waterfront view condition  \\\n",
       "0        3       1.5         1340      7912    1.5          0    0         3   \n",
       "1        5       2.5         3650      9050      2          0    4         5   \n",
       "2        3         2         1930     11947      1          0    0         4   \n",
       "3        3      2.25         2000      8030      1          0    0         4   \n",
       "4        4       2.5         1940     10500      1          0    0         4   \n",
       "\n",
       "   sqft_above  sqft_basement  yr_built  yr_renovated       city state    zip  \n",
       "0        1340              0      1955          2005  Shoreline    WA  98133  \n",
       "1        3370            280      1921             0    Seattle    WA  98119  \n",
       "2        1930              0      1966             0       Kent    WA  98042  \n",
       "3        1000           1000      1963             0   Bellevue    WA  98008  \n",
       "4        1140            800      1976          1992    Redmond    WA  98052  "
      ]
     },
     "execution_count": 4,
     "metadata": {},
     "output_type": "execute_result"
    }
   ],
   "source": [
    "# Drop rows without a valid sales price\n",
    "df = df[df.price != 0]\n",
    "df.head()\n",
    "df_features = df.drop(columns=['price', 'street', 'country'])\n",
    "df_features[['state','zip']] = df_features.statezip.str.split(expand=True) \n",
    "df_features = df_features.drop(columns=['statezip'])\n",
    "df_features.head()"
   ]
  },
  {
   "cell_type": "code",
   "execution_count": 5,
   "metadata": {},
   "outputs": [
    {
     "name": "stdout",
     "output_type": "stream",
     "text": [
      "<class 'pandas.core.frame.DataFrame'>\n",
      "Int64Index: 4551 entries, 0 to 4599\n",
      "Data columns (total 15 columns):\n",
      "bedrooms         4551 non-null object\n",
      "bathrooms        4551 non-null object\n",
      "sqft_living      4551 non-null int64\n",
      "sqft_lot         4551 non-null int64\n",
      "floors           4551 non-null object\n",
      "waterfront       4551 non-null object\n",
      "view             4551 non-null object\n",
      "condition        4551 non-null object\n",
      "sqft_above       4551 non-null int64\n",
      "sqft_basement    4551 non-null int64\n",
      "yr_built         4551 non-null int64\n",
      "yr_renovated     4551 non-null int64\n",
      "city             4551 non-null object\n",
      "state            4551 non-null object\n",
      "zip              4551 non-null object\n",
      "dtypes: int64(6), object(9)\n",
      "memory usage: 568.9+ KB\n",
      "None\n"
     ]
    }
   ],
   "source": [
    "print(df_features.info())"
   ]
  },
  {
   "cell_type": "code",
   "execution_count": 6,
   "metadata": {},
   "outputs": [],
   "source": [
    "to_plot = continuous_var\n",
    "to_plot.append('price')"
   ]
  },
  {
   "cell_type": "markdown",
   "metadata": {},
   "source": [
    "### 1.2 Visualize the univariate distribution of each continuous feature, and the distribution of the target. "
   ]
  },
  {
   "cell_type": "code",
   "execution_count": 7,
   "metadata": {},
   "outputs": [
    {
     "data": {
      "image/png": "[encoded data removed]",
      "text/plain": [
       "<Figure size 1296x360 with 7 Axes>"
      ]
     },
     "metadata": {
      "needs_background": "light"
     },
     "output_type": "display_data"
    }
   ],
   "source": [
    "width = 7\n",
    "fig, ax = plt.subplots(1, width, figsize = (18, 5))\n",
    "fig.subplots_adjust(hspace=0.5, wspace=0.5)\n",
    "fig.suptitle('Univariate Distribution of Continuous Features and Target', fontsize = 25)\n",
    "for i in range(len(ax)):\n",
    "    ax[i].hist(df[to_plot[i]])\n",
    "    if to_plot[i] != 'price':\n",
    "        ax[i].title.set_text(to_plot[i])\n",
    "        ax[i].set_xlabel(to_plot[i])\n",
    "        ax[i].set_ylabel('Frequency')\n",
    "    else:\n",
    "        ax[i].title.set_text('target(price)')\n",
    "        ax[i].set_xlabel('target(price)')\n",
    "        ax[i].set_ylabel('Frequency')"
   ]
  },
  {
   "cell_type": "markdown",
   "metadata": {},
   "source": [
    "#### It appears that the distribution of most of the continuous features and the target are highly skewed. As a result, scaling maybe helpful. On top of which, it appears that the distribution of year built is concentrated around two values. One can even argue that it is a categorical variable. As a result, it is important to consider what determines if a specific data is continuous or categorical."
   ]
  },
  {
   "cell_type": "markdown",
   "metadata": {},
   "source": [
    "### 1.3 Visualize the dependency of the target on each continuous feature (2d scatter plot)."
   ]
  },
  {
   "cell_type": "code",
   "execution_count": 8,
   "metadata": {},
   "outputs": [
    {
     "data": {
      "image/png": "[encoded data removed]",
      "text/plain": [
       "<Figure size 1080x864 with 6 Axes>"
      ]
     },
     "metadata": {
      "needs_background": "light"
     },
     "output_type": "display_data"
    }
   ],
   "source": [
    "width = 3\n",
    "fig, ax = plt.subplots(2,width, figsize = (15, 12))\n",
    "fig.suptitle('Dependency of Target(Price) on Continuous Features', fontsize = 25)\n",
    "for row in range(len(ax)):\n",
    "    for column in range(len(ax[0])):\n",
    "        i = width*row + column\n",
    "        ax[row,column].scatter(df[continuous_var[i]], df['price'])\n",
    "        ax[row,column].title.set_text('Price vs.' + to_plot[i])\n",
    "        ax[row,column].set_xlabel(to_plot[i])\n",
    "        ax[row,column].set_ylabel('Price')"
   ]
  },
  {
   "cell_type": "markdown",
   "metadata": {},
   "source": [
    "### 1.4 Split data in training and test set. "
   ]
  },
  {
   "cell_type": "code",
   "execution_count": 9,
   "metadata": {},
   "outputs": [],
   "source": [
    "X_train, X_test, y_train, y_test = train_test_split(\n",
    "    df_features, df['price'], random_state=42)"
   ]
  },
  {
   "cell_type": "markdown",
   "metadata": {},
   "source": [
    "#### Unscaled"
   ]
  },
  {
   "cell_type": "code",
   "execution_count": 10,
   "metadata": {},
   "outputs": [],
   "source": [
    "# Unscaled\n",
    "categories = X_train.dtypes == 'object'\n",
    "preprocess = make_column_transformer(\n",
    "    (SimpleImputer(strategy='mean'), ~categories),\n",
    "    (OneHotEncoder(handle_unknown = 'ignore'), categories))"
   ]
  },
  {
   "cell_type": "code",
   "execution_count": 11,
   "metadata": {},
   "outputs": [
    {
     "name": "stdout",
     "output_type": "stream",
     "text": [
      "mean cv accuracy using lr: 0.47344818\n",
      "mean cv accuracy using Ridge: 0.34337640\n",
      "mean cv accuracy using Lasso: 0.47230860\n",
      "mean cv accuracy using ElasticNet: 0.37032179\n"
     ]
    }
   ],
   "source": [
    "# Linear Regression\n",
    "lr_pip = make_pipeline(TargetEncoder(cols = 'zip'), preprocess, LinearRegression())\n",
    "scores = np.mean(cross_val_score(lr_pip,X_train,y_train))\n",
    "print(f'mean cv accuracy using lr: {scores:0.8f}')\n",
    "\n",
    "# Ridge\n",
    "lr_pip = make_pipeline(TargetEncoder(cols = 'zip'), preprocess, Ridge())\n",
    "scores = np.mean(cross_val_score(lr_pip,X_train,y_train))\n",
    "print(f'mean cv accuracy using Ridge: {scores:0.8f}')\n",
    "\n",
    "# Lasso\n",
    "lr_pip = make_pipeline(TargetEncoder(cols = 'zip'), preprocess, Lasso())\n",
    "scores = np.mean(cross_val_score(lr_pip,X_train,y_train))\n",
    "print(f'mean cv accuracy using Lasso: {scores:0.8f}')\n",
    "\n",
    "# ElasticNet\n",
    "lr_pip = make_pipeline(TargetEncoder(cols = 'zip'), preprocess, ElasticNet())\n",
    "scores = np.mean(cross_val_score(lr_pip,X_train,y_train))\n",
    "print(f'mean cv accuracy using ElasticNet: {scores:0.8f}')"
   ]
  },
  {
   "cell_type": "markdown",
   "metadata": {},
   "source": [
    "#### Scaled"
   ]
  },
  {
   "cell_type": "code",
   "execution_count": 12,
   "metadata": {},
   "outputs": [],
   "source": [
    "# With StandardScaler()\n",
    "categories = X_train.dtypes == 'object'\n",
    "preprocess = make_column_transformer(\n",
    "    (SimpleImputer(strategy='mean'), ~categories),\n",
    "    (StandardScaler(), ~categories),\n",
    "    (OneHotEncoder(handle_unknown = 'ignore'), categories))"
   ]
  },
  {
   "cell_type": "code",
   "execution_count": 13,
   "metadata": {},
   "outputs": [
    {
     "name": "stdout",
     "output_type": "stream",
     "text": [
      "mean cv accuracy using lr: 0.47357749\n",
      "mean cv accuracy using Ridge: 0.34337635\n",
      "mean cv accuracy using Lasso: 0.47230869\n",
      "mean cv accuracy using ElasticNet: 0.37032179\n"
     ]
    }
   ],
   "source": [
    "# Linear Regression\n",
    "lr_pip = make_pipeline(TargetEncoder(cols = 'zip'), preprocess, LinearRegression())\n",
    "scores = np.mean(cross_val_score(lr_pip,X_train,y_train))\n",
    "print(f'mean cv accuracy using lr: {scores:0.8f}')\n",
    "\n",
    "# Ridge\n",
    "lr_pip = make_pipeline(TargetEncoder(cols = 'zip'), preprocess, Ridge())\n",
    "scores = np.mean(cross_val_score(lr_pip,X_train,y_train))\n",
    "print(f'mean cv accuracy using Ridge: {scores:0.8f}')\n",
    "\n",
    "# Lasso\n",
    "lr_pip = make_pipeline(TargetEncoder(cols = 'zip'), preprocess, Lasso())\n",
    "scores = np.mean(cross_val_score(lr_pip,X_train,y_train))\n",
    "print(f'mean cv accuracy using Lasso: {scores:0.8f}')\n",
    "\n",
    "# ElasticNet\n",
    "lr_pip = make_pipeline(TargetEncoder(cols = 'zip'), preprocess, ElasticNet())\n",
    "scores = np.mean(cross_val_score(lr_pip,X_train,y_train))\n",
    "print(f'mean cv accuracy using ElasticNet: {scores:0.8f}')"
   ]
  },
  {
   "cell_type": "markdown",
   "metadata": {},
   "source": [
    "#### Does scaling the data with StandardScaler help? "
   ]
  },
  {
   "cell_type": "markdown",
   "metadata": {},
   "source": [
    "#### Whereas we previously proposed that scaling the data would help, we can see that scaling the data did not influence the cross-validation accuracy much. It may have improved very slightly, but that is trivial given the randomness in our sampling."
   ]
  },
  {
   "cell_type": "markdown",
   "metadata": {},
   "source": [
    "### 1.5 Tune the parameters of the models using GridSearchCV. "
   ]
  },
  {
   "cell_type": "code",
   "execution_count": 14,
   "metadata": {},
   "outputs": [
    {
     "name": "stdout",
     "output_type": "stream",
     "text": [
      "0.7089978340113741\n",
      "{'regressor': ElasticNet(alpha=0.01, copy_X=True, fit_intercept=True, l1_ratio=0.7,\n",
      "           max_iter=1000, normalize=False, positive=False, precompute=False,\n",
      "           random_state=None, selection='cyclic', tol=0.0001, warm_start=False), 'regressor__alpha': 0.01, 'regressor__l1_ratio': 0.7}\n",
      "[0.34337635 0.34337635 0.34337635 0.34337635 0.34337635 0.47228582\n",
      " 0.47229741 0.47230714 0.4723163  0.47232436 0.47331228 0.47305734\n",
      " 0.47277722 0.47246232 0.47227168 0.47703952 0.47630165 0.47527446\n",
      " 0.47365683 0.47227167 0.47424604 0.47699702 0.47883809 0.47782325\n",
      " 0.47227173 0.42138956 0.43126666 0.44568633 0.46969382 0.47227497\n",
      " 0.3643624  0.37032184 0.38130791 0.41090097 0.47232436]\n"
     ]
    }
   ],
   "source": [
    "pipe = Pipeline([('scaler', preprocess),\n",
    "                 ('regressor', LinearRegression())])\n",
    "\n",
    "param_grid = [{'regressor': [Ridge()],\n",
    "               'regressor__alpha': [0.0001, 0.001, 0.01, 0.1, 1]},\n",
    "              {'regressor': [Lasso()],\n",
    "               'regressor__alpha': [0.3, 0.5, 0.7, .9, 1]},\n",
    "              {'regressor': [ElasticNet()],\n",
    "               'regressor__alpha': [0.0001, 0.001, 0.01, 0.1, 1],\n",
    "               'regressor__l1_ratio': [0.3, 0.5, 0.7, .9, 1]}\n",
    "             ]\n",
    "grid = GridSearchCV(pipe, param_grid, return_train_score=True)\n",
    "grid.fit(X_train, y_train)\n",
    "print(grid.score(X_test, y_test))\n",
    "print(grid.best_params_)\n",
    "print(grid.cv_results_['mean_test_score'])"
   ]
  },
  {
   "cell_type": "code",
   "execution_count": 15,
   "metadata": {},
   "outputs": [
    {
     "name": "stdout",
     "output_type": "stream",
     "text": [
      "{'regressor': ElasticNet(alpha=0.01, copy_X=True, fit_intercept=True, l1_ratio=0.5,\n",
      "           max_iter=1000, normalize=False, positive=False, precompute=False,\n",
      "           random_state=None, selection='cyclic', tol=0.0001, warm_start=False), 'regressor__alpha': 0.01}\n",
      "[0.47305734 0.47630165 0.47699702 0.43126666 0.37032184]\n"
     ]
    }
   ],
   "source": [
    "pipe = Pipeline([('scaler', preprocess),\n",
    "                 ('regressor', LinearRegression())])\n",
    "\n",
    "param_grid = [{'regressor': [ElasticNet()],\n",
    "               'regressor__alpha': [0.0001, 0.001, 0.01, 0.1, 1]}\n",
    "             ]\n",
    "\n",
    "grid = GridSearchCV(pipe, param_grid, return_train_score=True)\n",
    "grid.fit(X_train, y_train)\n",
    "print(grid.best_params_)\n",
    "print(grid.cv_results_['mean_test_score'])\n",
    "results_grid_a = pd.DataFrame.from_dict(grid.cv_results_)"
   ]
  },
  {
   "cell_type": "code",
   "execution_count": 16,
   "metadata": {},
   "outputs": [
    {
     "data": {
      "text/html": [
       "<div>\n",
       "<style scoped>\n",
       "    .dataframe tbody tr th:only-of-type {\n",
       "        vertical-align: middle;\n",
       "    }\n",
       "\n",
       "    .dataframe tbody tr th {\n",
       "        vertical-align: top;\n",
       "    }\n",
       "\n",
       "    .dataframe thead th {\n",
       "        text-align: right;\n",
       "    }\n",
       "</style>\n",
       "<table border=\"1\" class=\"dataframe\">\n",
       "  <thead>\n",
       "    <tr style=\"text-align: right;\">\n",
       "      <th></th>\n",
       "      <th>mean_fit_time</th>\n",
       "      <th>std_fit_time</th>\n",
       "      <th>mean_score_time</th>\n",
       "      <th>std_score_time</th>\n",
       "      <th>param_regressor</th>\n",
       "      <th>param_regressor__alpha</th>\n",
       "      <th>params</th>\n",
       "      <th>split0_test_score</th>\n",
       "      <th>split1_test_score</th>\n",
       "      <th>split2_test_score</th>\n",
       "      <th>...</th>\n",
       "      <th>mean_test_score</th>\n",
       "      <th>std_test_score</th>\n",
       "      <th>rank_test_score</th>\n",
       "      <th>split0_train_score</th>\n",
       "      <th>split1_train_score</th>\n",
       "      <th>split2_train_score</th>\n",
       "      <th>split3_train_score</th>\n",
       "      <th>split4_train_score</th>\n",
       "      <th>mean_train_score</th>\n",
       "      <th>std_train_score</th>\n",
       "    </tr>\n",
       "  </thead>\n",
       "  <tbody>\n",
       "    <tr>\n",
       "      <td>0</td>\n",
       "      <td>1.096144</td>\n",
       "      <td>0.015760</td>\n",
       "      <td>0.007760</td>\n",
       "      <td>0.000268</td>\n",
       "      <td>ElasticNet(alpha=0.01, copy_X=True, fit_interc...</td>\n",
       "      <td>0.0001</td>\n",
       "      <td>{'regressor': ElasticNet(alpha=0.01, copy_X=Tr...</td>\n",
       "      <td>0.035441</td>\n",
       "      <td>0.307206</td>\n",
       "      <td>0.654762</td>\n",
       "      <td>...</td>\n",
       "      <td>0.473057</td>\n",
       "      <td>0.263707</td>\n",
       "      <td>3</td>\n",
       "      <td>0.586818</td>\n",
       "      <td>0.272055</td>\n",
       "      <td>0.255645</td>\n",
       "      <td>0.240879</td>\n",
       "      <td>0.250344</td>\n",
       "      <td>0.321148</td>\n",
       "      <td>0.133220</td>\n",
       "    </tr>\n",
       "    <tr>\n",
       "      <td>1</td>\n",
       "      <td>1.163806</td>\n",
       "      <td>0.043048</td>\n",
       "      <td>0.009142</td>\n",
       "      <td>0.000720</td>\n",
       "      <td>ElasticNet(alpha=0.01, copy_X=True, fit_interc...</td>\n",
       "      <td>0.001</td>\n",
       "      <td>{'regressor': ElasticNet(alpha=0.01, copy_X=Tr...</td>\n",
       "      <td>0.036132</td>\n",
       "      <td>0.306440</td>\n",
       "      <td>0.660346</td>\n",
       "      <td>...</td>\n",
       "      <td>0.476302</td>\n",
       "      <td>0.265897</td>\n",
       "      <td>2</td>\n",
       "      <td>0.585514</td>\n",
       "      <td>0.271566</td>\n",
       "      <td>0.255033</td>\n",
       "      <td>0.240251</td>\n",
       "      <td>0.249894</td>\n",
       "      <td>0.320452</td>\n",
       "      <td>0.132920</td>\n",
       "    </tr>\n",
       "    <tr>\n",
       "      <td>2</td>\n",
       "      <td>1.183384</td>\n",
       "      <td>0.033554</td>\n",
       "      <td>0.008107</td>\n",
       "      <td>0.000527</td>\n",
       "      <td>ElasticNet(alpha=0.01, copy_X=True, fit_interc...</td>\n",
       "      <td>0.01</td>\n",
       "      <td>{'regressor': ElasticNet(alpha=0.01, copy_X=Tr...</td>\n",
       "      <td>0.036986</td>\n",
       "      <td>0.296631</td>\n",
       "      <td>0.663586</td>\n",
       "      <td>...</td>\n",
       "      <td>0.476997</td>\n",
       "      <td>0.268090</td>\n",
       "      <td>1</td>\n",
       "      <td>0.568502</td>\n",
       "      <td>0.263320</td>\n",
       "      <td>0.246943</td>\n",
       "      <td>0.231039</td>\n",
       "      <td>0.241997</td>\n",
       "      <td>0.310360</td>\n",
       "      <td>0.129489</td>\n",
       "    </tr>\n",
       "    <tr>\n",
       "      <td>3</td>\n",
       "      <td>1.200037</td>\n",
       "      <td>0.073533</td>\n",
       "      <td>0.009664</td>\n",
       "      <td>0.002147</td>\n",
       "      <td>ElasticNet(alpha=0.01, copy_X=True, fit_interc...</td>\n",
       "      <td>0.1</td>\n",
       "      <td>{'regressor': ElasticNet(alpha=0.01, copy_X=Tr...</td>\n",
       "      <td>0.032132</td>\n",
       "      <td>0.262961</td>\n",
       "      <td>0.600071</td>\n",
       "      <td>...</td>\n",
       "      <td>0.431267</td>\n",
       "      <td>0.243592</td>\n",
       "      <td>4</td>\n",
       "      <td>0.489309</td>\n",
       "      <td>0.222508</td>\n",
       "      <td>0.207238</td>\n",
       "      <td>0.189987</td>\n",
       "      <td>0.203453</td>\n",
       "      <td>0.262499</td>\n",
       "      <td>0.113878</td>\n",
       "    </tr>\n",
       "    <tr>\n",
       "      <td>4</td>\n",
       "      <td>1.272502</td>\n",
       "      <td>0.086516</td>\n",
       "      <td>0.011303</td>\n",
       "      <td>0.003579</td>\n",
       "      <td>ElasticNet(alpha=0.01, copy_X=True, fit_interc...</td>\n",
       "      <td>1</td>\n",
       "      <td>{'regressor': ElasticNet(alpha=0.01, copy_X=Tr...</td>\n",
       "      <td>0.023868</td>\n",
       "      <td>0.227506</td>\n",
       "      <td>0.505280</td>\n",
       "      <td>...</td>\n",
       "      <td>0.370322</td>\n",
       "      <td>0.210449</td>\n",
       "      <td>5</td>\n",
       "      <td>0.408715</td>\n",
       "      <td>0.178411</td>\n",
       "      <td>0.167080</td>\n",
       "      <td>0.148538</td>\n",
       "      <td>0.164239</td>\n",
       "      <td>0.213397</td>\n",
       "      <td>0.098124</td>\n",
       "    </tr>\n",
       "  </tbody>\n",
       "</table>\n",
       "<p>5 rows × 22 columns</p>\n",
       "</div>"
      ],
      "text/plain": [
       "   mean_fit_time  std_fit_time  mean_score_time  std_score_time  \\\n",
       "0       1.096144      0.015760         0.007760        0.000268   \n",
       "1       1.163806      0.043048         0.009142        0.000720   \n",
       "2       1.183384      0.033554         0.008107        0.000527   \n",
       "3       1.200037      0.073533         0.009664        0.002147   \n",
       "4       1.272502      0.086516         0.011303        0.003579   \n",
       "\n",
       "                                     param_regressor param_regressor__alpha  \\\n",
       "0  ElasticNet(alpha=0.01, copy_X=True, fit_interc...                 0.0001   \n",
       "1  ElasticNet(alpha=0.01, copy_X=True, fit_interc...                  0.001   \n",
       "2  ElasticNet(alpha=0.01, copy_X=True, fit_interc...                   0.01   \n",
       "3  ElasticNet(alpha=0.01, copy_X=True, fit_interc...                    0.1   \n",
       "4  ElasticNet(alpha=0.01, copy_X=True, fit_interc...                      1   \n",
       "\n",
       "                                              params  split0_test_score  \\\n",
       "0  {'regressor': ElasticNet(alpha=0.01, copy_X=Tr...           0.035441   \n",
       "1  {'regressor': ElasticNet(alpha=0.01, copy_X=Tr...           0.036132   \n",
       "2  {'regressor': ElasticNet(alpha=0.01, copy_X=Tr...           0.036986   \n",
       "3  {'regressor': ElasticNet(alpha=0.01, copy_X=Tr...           0.032132   \n",
       "4  {'regressor': ElasticNet(alpha=0.01, copy_X=Tr...           0.023868   \n",
       "\n",
       "   split1_test_score  split2_test_score  ...  mean_test_score  std_test_score  \\\n",
       "0           0.307206           0.654762  ...         0.473057        0.263707   \n",
       "1           0.306440           0.660346  ...         0.476302        0.265897   \n",
       "2           0.296631           0.663586  ...         0.476997        0.268090   \n",
       "3           0.262961           0.600071  ...         0.431267        0.243592   \n",
       "4           0.227506           0.505280  ...         0.370322        0.210449   \n",
       "\n",
       "   rank_test_score  split0_train_score  split1_train_score  \\\n",
       "0                3            0.586818            0.272055   \n",
       "1                2            0.585514            0.271566   \n",
       "2                1            0.568502            0.263320   \n",
       "3                4            0.489309            0.222508   \n",
       "4                5            0.408715            0.178411   \n",
       "\n",
       "   split2_train_score  split3_train_score  split4_train_score  \\\n",
       "0            0.255645            0.240879            0.250344   \n",
       "1            0.255033            0.240251            0.249894   \n",
       "2            0.246943            0.231039            0.241997   \n",
       "3            0.207238            0.189987            0.203453   \n",
       "4            0.167080            0.148538            0.164239   \n",
       "\n",
       "   mean_train_score  std_train_score  \n",
       "0          0.321148         0.133220  \n",
       "1          0.320452         0.132920  \n",
       "2          0.310360         0.129489  \n",
       "3          0.262499         0.113878  \n",
       "4          0.213397         0.098124  \n",
       "\n",
       "[5 rows x 22 columns]"
      ]
     },
     "execution_count": 16,
     "metadata": {},
     "output_type": "execute_result"
    }
   ],
   "source": [
    "results_grid_a"
   ]
  },
  {
   "cell_type": "code",
   "execution_count": 17,
   "metadata": {},
   "outputs": [
    {
     "name": "stdout",
     "output_type": "stream",
     "text": [
      "0.7089978340113741\n",
      "{'regressor': ElasticNet(alpha=0.01, copy_X=True, fit_intercept=True, l1_ratio=0.7,\n",
      "           max_iter=1000, normalize=False, positive=False, precompute=False,\n",
      "           random_state=None, selection='cyclic', tol=0.0001, warm_start=False), 'regressor__l1_ratio': 0.7}\n",
      "[0.34337635 0.34337635 0.34337635 0.34337635 0.34337635 0.47228582\n",
      " 0.47229741 0.47230714 0.4723163  0.47232436 0.47424604 0.47699702\n",
      " 0.47883809 0.47782325 0.47227173]\n"
     ]
    }
   ],
   "source": [
    "pipe = Pipeline([('scaler', preprocess),\n",
    "                 ('regressor', LinearRegression())])\n",
    "param_grid = [{'regressor': [Ridge()],\n",
    "               'regressor__alpha': [0.0001, 0.001, 0.01, 0.1, 1]},\n",
    "              {'regressor': [Lasso()],\n",
    "               'regressor__alpha': [0.3, 0.5, 0.7, .9, 1]},\n",
    "              {'regressor': [ElasticNet(alpha = 0.01)],\n",
    "               'regressor__l1_ratio': [0.3, 0.5, 0.7, .9, 1]}\n",
    "             ]\n",
    "grid = GridSearchCV(pipe, param_grid, return_train_score=True)\n",
    "grid.fit(X_train, y_train)\n",
    "print(grid.score(X_test, y_test))\n",
    "print(grid.best_params_)\n",
    "print(grid.cv_results_['mean_test_score'])\n",
    "results_grid_all = pd.DataFrame.from_dict(grid.cv_results_)"
   ]
  },
  {
   "cell_type": "code",
   "execution_count": 18,
   "metadata": {},
   "outputs": [
    {
     "data": {
      "text/html": [
       "<div>\n",
       "<style scoped>\n",
       "    .dataframe tbody tr th:only-of-type {\n",
       "        vertical-align: middle;\n",
       "    }\n",
       "\n",
       "    .dataframe tbody tr th {\n",
       "        vertical-align: top;\n",
       "    }\n",
       "\n",
       "    .dataframe thead th {\n",
       "        text-align: right;\n",
       "    }\n",
       "</style>\n",
       "<table border=\"1\" class=\"dataframe\">\n",
       "  <thead>\n",
       "    <tr style=\"text-align: right;\">\n",
       "      <th></th>\n",
       "      <th>mean_fit_time</th>\n",
       "      <th>std_fit_time</th>\n",
       "      <th>mean_score_time</th>\n",
       "      <th>std_score_time</th>\n",
       "      <th>param_regressor</th>\n",
       "      <th>param_regressor__alpha</th>\n",
       "      <th>param_regressor__l1_ratio</th>\n",
       "      <th>params</th>\n",
       "      <th>split0_test_score</th>\n",
       "      <th>split1_test_score</th>\n",
       "      <th>...</th>\n",
       "      <th>mean_test_score</th>\n",
       "      <th>std_test_score</th>\n",
       "      <th>rank_test_score</th>\n",
       "      <th>split0_train_score</th>\n",
       "      <th>split1_train_score</th>\n",
       "      <th>split2_train_score</th>\n",
       "      <th>split3_train_score</th>\n",
       "      <th>split4_train_score</th>\n",
       "      <th>mean_train_score</th>\n",
       "      <th>std_train_score</th>\n",
       "    </tr>\n",
       "  </thead>\n",
       "  <tbody>\n",
       "    <tr>\n",
       "      <td>0</td>\n",
       "      <td>0.025033</td>\n",
       "      <td>0.004303</td>\n",
       "      <td>0.012588</td>\n",
       "      <td>0.007293</td>\n",
       "      <td>Ridge(alpha=1.0, copy_X=True, fit_intercept=Tr...</td>\n",
       "      <td>0.0001</td>\n",
       "      <td>NaN</td>\n",
       "      <td>{'regressor': Ridge(alpha=1.0, copy_X=True, fi...</td>\n",
       "      <td>0.019877</td>\n",
       "      <td>0.211965</td>\n",
       "      <td>...</td>\n",
       "      <td>0.343376</td>\n",
       "      <td>0.196187</td>\n",
       "      <td>12</td>\n",
       "      <td>0.376474</td>\n",
       "      <td>0.161217</td>\n",
       "      <td>0.151325</td>\n",
       "      <td>0.133148</td>\n",
       "      <td>0.148386</td>\n",
       "      <td>0.194110</td>\n",
       "      <td>0.091625</td>\n",
       "    </tr>\n",
       "    <tr>\n",
       "      <td>1</td>\n",
       "      <td>0.022380</td>\n",
       "      <td>0.002332</td>\n",
       "      <td>0.008591</td>\n",
       "      <td>0.000941</td>\n",
       "      <td>Ridge(alpha=1.0, copy_X=True, fit_intercept=Tr...</td>\n",
       "      <td>0.001</td>\n",
       "      <td>NaN</td>\n",
       "      <td>{'regressor': Ridge(alpha=1.0, copy_X=True, fi...</td>\n",
       "      <td>0.019877</td>\n",
       "      <td>0.211965</td>\n",
       "      <td>...</td>\n",
       "      <td>0.343376</td>\n",
       "      <td>0.196187</td>\n",
       "      <td>11</td>\n",
       "      <td>0.376474</td>\n",
       "      <td>0.161217</td>\n",
       "      <td>0.151325</td>\n",
       "      <td>0.133148</td>\n",
       "      <td>0.148386</td>\n",
       "      <td>0.194110</td>\n",
       "      <td>0.091625</td>\n",
       "    </tr>\n",
       "    <tr>\n",
       "      <td>2</td>\n",
       "      <td>0.019407</td>\n",
       "      <td>0.000093</td>\n",
       "      <td>0.007767</td>\n",
       "      <td>0.000826</td>\n",
       "      <td>Ridge(alpha=1.0, copy_X=True, fit_intercept=Tr...</td>\n",
       "      <td>0.01</td>\n",
       "      <td>NaN</td>\n",
       "      <td>{'regressor': Ridge(alpha=1.0, copy_X=True, fi...</td>\n",
       "      <td>0.019877</td>\n",
       "      <td>0.211965</td>\n",
       "      <td>...</td>\n",
       "      <td>0.343376</td>\n",
       "      <td>0.196187</td>\n",
       "      <td>13</td>\n",
       "      <td>0.376474</td>\n",
       "      <td>0.161217</td>\n",
       "      <td>0.151325</td>\n",
       "      <td>0.133148</td>\n",
       "      <td>0.148386</td>\n",
       "      <td>0.194110</td>\n",
       "      <td>0.091625</td>\n",
       "    </tr>\n",
       "    <tr>\n",
       "      <td>3</td>\n",
       "      <td>0.021673</td>\n",
       "      <td>0.001227</td>\n",
       "      <td>0.008200</td>\n",
       "      <td>0.000224</td>\n",
       "      <td>Ridge(alpha=1.0, copy_X=True, fit_intercept=Tr...</td>\n",
       "      <td>0.1</td>\n",
       "      <td>NaN</td>\n",
       "      <td>{'regressor': Ridge(alpha=1.0, copy_X=True, fi...</td>\n",
       "      <td>0.019877</td>\n",
       "      <td>0.211965</td>\n",
       "      <td>...</td>\n",
       "      <td>0.343376</td>\n",
       "      <td>0.196187</td>\n",
       "      <td>14</td>\n",
       "      <td>0.376474</td>\n",
       "      <td>0.161217</td>\n",
       "      <td>0.151325</td>\n",
       "      <td>0.133148</td>\n",
       "      <td>0.148386</td>\n",
       "      <td>0.194110</td>\n",
       "      <td>0.091625</td>\n",
       "    </tr>\n",
       "    <tr>\n",
       "      <td>4</td>\n",
       "      <td>0.021422</td>\n",
       "      <td>0.002123</td>\n",
       "      <td>0.008365</td>\n",
       "      <td>0.001342</td>\n",
       "      <td>Ridge(alpha=1.0, copy_X=True, fit_intercept=Tr...</td>\n",
       "      <td>1</td>\n",
       "      <td>NaN</td>\n",
       "      <td>{'regressor': Ridge(alpha=1.0, copy_X=True, fi...</td>\n",
       "      <td>0.019877</td>\n",
       "      <td>0.211965</td>\n",
       "      <td>...</td>\n",
       "      <td>0.343376</td>\n",
       "      <td>0.196187</td>\n",
       "      <td>15</td>\n",
       "      <td>0.376474</td>\n",
       "      <td>0.161217</td>\n",
       "      <td>0.151325</td>\n",
       "      <td>0.133148</td>\n",
       "      <td>0.148386</td>\n",
       "      <td>0.194110</td>\n",
       "      <td>0.091625</td>\n",
       "    </tr>\n",
       "    <tr>\n",
       "      <td>5</td>\n",
       "      <td>1.090643</td>\n",
       "      <td>0.013507</td>\n",
       "      <td>0.007517</td>\n",
       "      <td>0.000101</td>\n",
       "      <td>Lasso(alpha=1.0, copy_X=True, fit_intercept=Tr...</td>\n",
       "      <td>0.3</td>\n",
       "      <td>NaN</td>\n",
       "      <td>{'regressor': Lasso(alpha=1.0, copy_X=True, fi...</td>\n",
       "      <td>0.035293</td>\n",
       "      <td>0.307161</td>\n",
       "      <td>...</td>\n",
       "      <td>0.472286</td>\n",
       "      <td>0.263208</td>\n",
       "      <td>9</td>\n",
       "      <td>0.586856</td>\n",
       "      <td>0.272067</td>\n",
       "      <td>0.255662</td>\n",
       "      <td>0.240896</td>\n",
       "      <td>0.250355</td>\n",
       "      <td>0.321167</td>\n",
       "      <td>0.133229</td>\n",
       "    </tr>\n",
       "    <tr>\n",
       "      <td>6</td>\n",
       "      <td>1.142681</td>\n",
       "      <td>0.026821</td>\n",
       "      <td>0.008188</td>\n",
       "      <td>0.000700</td>\n",
       "      <td>Lasso(alpha=1.0, copy_X=True, fit_intercept=Tr...</td>\n",
       "      <td>0.5</td>\n",
       "      <td>NaN</td>\n",
       "      <td>{'regressor': Lasso(alpha=1.0, copy_X=True, fi...</td>\n",
       "      <td>0.035295</td>\n",
       "      <td>0.307156</td>\n",
       "      <td>...</td>\n",
       "      <td>0.472297</td>\n",
       "      <td>0.263219</td>\n",
       "      <td>8</td>\n",
       "      <td>0.586856</td>\n",
       "      <td>0.272067</td>\n",
       "      <td>0.255662</td>\n",
       "      <td>0.240896</td>\n",
       "      <td>0.250355</td>\n",
       "      <td>0.321167</td>\n",
       "      <td>0.133229</td>\n",
       "    </tr>\n",
       "    <tr>\n",
       "      <td>7</td>\n",
       "      <td>1.063543</td>\n",
       "      <td>0.005115</td>\n",
       "      <td>0.007831</td>\n",
       "      <td>0.000550</td>\n",
       "      <td>Lasso(alpha=1.0, copy_X=True, fit_intercept=Tr...</td>\n",
       "      <td>0.7</td>\n",
       "      <td>NaN</td>\n",
       "      <td>{'regressor': Lasso(alpha=1.0, copy_X=True, fi...</td>\n",
       "      <td>0.035295</td>\n",
       "      <td>0.307154</td>\n",
       "      <td>...</td>\n",
       "      <td>0.472307</td>\n",
       "      <td>0.263229</td>\n",
       "      <td>7</td>\n",
       "      <td>0.586856</td>\n",
       "      <td>0.272067</td>\n",
       "      <td>0.255662</td>\n",
       "      <td>0.240896</td>\n",
       "      <td>0.250355</td>\n",
       "      <td>0.321167</td>\n",
       "      <td>0.133229</td>\n",
       "    </tr>\n",
       "    <tr>\n",
       "      <td>8</td>\n",
       "      <td>1.142105</td>\n",
       "      <td>0.081477</td>\n",
       "      <td>0.012205</td>\n",
       "      <td>0.008045</td>\n",
       "      <td>Lasso(alpha=1.0, copy_X=True, fit_intercept=Tr...</td>\n",
       "      <td>0.9</td>\n",
       "      <td>NaN</td>\n",
       "      <td>{'regressor': Lasso(alpha=1.0, copy_X=True, fi...</td>\n",
       "      <td>0.035295</td>\n",
       "      <td>0.307149</td>\n",
       "      <td>...</td>\n",
       "      <td>0.472316</td>\n",
       "      <td>0.263238</td>\n",
       "      <td>6</td>\n",
       "      <td>0.586856</td>\n",
       "      <td>0.272067</td>\n",
       "      <td>0.255662</td>\n",
       "      <td>0.240896</td>\n",
       "      <td>0.250355</td>\n",
       "      <td>0.321167</td>\n",
       "      <td>0.133229</td>\n",
       "    </tr>\n",
       "    <tr>\n",
       "      <td>9</td>\n",
       "      <td>1.030413</td>\n",
       "      <td>0.020512</td>\n",
       "      <td>0.007496</td>\n",
       "      <td>0.000101</td>\n",
       "      <td>Lasso(alpha=1.0, copy_X=True, fit_intercept=Tr...</td>\n",
       "      <td>1</td>\n",
       "      <td>NaN</td>\n",
       "      <td>{'regressor': Lasso(alpha=1.0, copy_X=True, fi...</td>\n",
       "      <td>0.035295</td>\n",
       "      <td>0.307146</td>\n",
       "      <td>...</td>\n",
       "      <td>0.472324</td>\n",
       "      <td>0.263246</td>\n",
       "      <td>5</td>\n",
       "      <td>0.586856</td>\n",
       "      <td>0.272067</td>\n",
       "      <td>0.255662</td>\n",
       "      <td>0.240896</td>\n",
       "      <td>0.250355</td>\n",
       "      <td>0.321167</td>\n",
       "      <td>0.133229</td>\n",
       "    </tr>\n",
       "    <tr>\n",
       "      <td>10</td>\n",
       "      <td>1.112816</td>\n",
       "      <td>0.022120</td>\n",
       "      <td>0.008269</td>\n",
       "      <td>0.001168</td>\n",
       "      <td>ElasticNet(alpha=0.01, copy_X=True, fit_interc...</td>\n",
       "      <td>NaN</td>\n",
       "      <td>0.3</td>\n",
       "      <td>{'regressor': ElasticNet(alpha=0.01, copy_X=Tr...</td>\n",
       "      <td>0.036794</td>\n",
       "      <td>0.293061</td>\n",
       "      <td>...</td>\n",
       "      <td>0.474246</td>\n",
       "      <td>0.266919</td>\n",
       "      <td>4</td>\n",
       "      <td>0.561298</td>\n",
       "      <td>0.259752</td>\n",
       "      <td>0.243403</td>\n",
       "      <td>0.227206</td>\n",
       "      <td>0.238521</td>\n",
       "      <td>0.306036</td>\n",
       "      <td>0.128060</td>\n",
       "    </tr>\n",
       "    <tr>\n",
       "      <td>11</td>\n",
       "      <td>1.129159</td>\n",
       "      <td>0.036413</td>\n",
       "      <td>0.008013</td>\n",
       "      <td>0.000872</td>\n",
       "      <td>ElasticNet(alpha=0.01, copy_X=True, fit_interc...</td>\n",
       "      <td>NaN</td>\n",
       "      <td>0.5</td>\n",
       "      <td>{'regressor': ElasticNet(alpha=0.01, copy_X=Tr...</td>\n",
       "      <td>0.036986</td>\n",
       "      <td>0.296631</td>\n",
       "      <td>...</td>\n",
       "      <td>0.476997</td>\n",
       "      <td>0.268090</td>\n",
       "      <td>3</td>\n",
       "      <td>0.568502</td>\n",
       "      <td>0.263320</td>\n",
       "      <td>0.246943</td>\n",
       "      <td>0.231039</td>\n",
       "      <td>0.241997</td>\n",
       "      <td>0.310360</td>\n",
       "      <td>0.129489</td>\n",
       "    </tr>\n",
       "    <tr>\n",
       "      <td>12</td>\n",
       "      <td>1.093498</td>\n",
       "      <td>0.007660</td>\n",
       "      <td>0.008028</td>\n",
       "      <td>0.001078</td>\n",
       "      <td>ElasticNet(alpha=0.01, copy_X=True, fit_interc...</td>\n",
       "      <td>NaN</td>\n",
       "      <td>0.7</td>\n",
       "      <td>{'regressor': ElasticNet(alpha=0.01, copy_X=Tr...</td>\n",
       "      <td>0.036996</td>\n",
       "      <td>0.300775</td>\n",
       "      <td>...</td>\n",
       "      <td>0.478838</td>\n",
       "      <td>0.268543</td>\n",
       "      <td>1</td>\n",
       "      <td>0.576157</td>\n",
       "      <td>0.267104</td>\n",
       "      <td>0.250644</td>\n",
       "      <td>0.235185</td>\n",
       "      <td>0.245665</td>\n",
       "      <td>0.314951</td>\n",
       "      <td>0.131009</td>\n",
       "    </tr>\n",
       "    <tr>\n",
       "      <td>13</td>\n",
       "      <td>1.084863</td>\n",
       "      <td>0.008287</td>\n",
       "      <td>0.007842</td>\n",
       "      <td>0.000565</td>\n",
       "      <td>ElasticNet(alpha=0.01, copy_X=True, fit_interc...</td>\n",
       "      <td>NaN</td>\n",
       "      <td>0.9</td>\n",
       "      <td>{'regressor': ElasticNet(alpha=0.01, copy_X=Tr...</td>\n",
       "      <td>0.036493</td>\n",
       "      <td>0.305361</td>\n",
       "      <td>...</td>\n",
       "      <td>0.477823</td>\n",
       "      <td>0.267056</td>\n",
       "      <td>2</td>\n",
       "      <td>0.583754</td>\n",
       "      <td>0.270789</td>\n",
       "      <td>0.254215</td>\n",
       "      <td>0.239337</td>\n",
       "      <td>0.249172</td>\n",
       "      <td>0.319454</td>\n",
       "      <td>0.132542</td>\n",
       "    </tr>\n",
       "    <tr>\n",
       "      <td>14</td>\n",
       "      <td>1.093633</td>\n",
       "      <td>0.012549</td>\n",
       "      <td>0.007490</td>\n",
       "      <td>0.000132</td>\n",
       "      <td>ElasticNet(alpha=0.01, copy_X=True, fit_interc...</td>\n",
       "      <td>NaN</td>\n",
       "      <td>1</td>\n",
       "      <td>{'regressor': ElasticNet(alpha=0.01, copy_X=Tr...</td>\n",
       "      <td>0.035293</td>\n",
       "      <td>0.307164</td>\n",
       "      <td>...</td>\n",
       "      <td>0.472272</td>\n",
       "      <td>0.263195</td>\n",
       "      <td>10</td>\n",
       "      <td>0.586856</td>\n",
       "      <td>0.272067</td>\n",
       "      <td>0.255662</td>\n",
       "      <td>0.240896</td>\n",
       "      <td>0.250355</td>\n",
       "      <td>0.321167</td>\n",
       "      <td>0.133229</td>\n",
       "    </tr>\n",
       "  </tbody>\n",
       "</table>\n",
       "<p>15 rows × 23 columns</p>\n",
       "</div>"
      ],
      "text/plain": [
       "    mean_fit_time  std_fit_time  mean_score_time  std_score_time  \\\n",
       "0        0.025033      0.004303         0.012588        0.007293   \n",
       "1        0.022380      0.002332         0.008591        0.000941   \n",
       "2        0.019407      0.000093         0.007767        0.000826   \n",
       "3        0.021673      0.001227         0.008200        0.000224   \n",
       "4        0.021422      0.002123         0.008365        0.001342   \n",
       "5        1.090643      0.013507         0.007517        0.000101   \n",
       "6        1.142681      0.026821         0.008188        0.000700   \n",
       "7        1.063543      0.005115         0.007831        0.000550   \n",
       "8        1.142105      0.081477         0.012205        0.008045   \n",
       "9        1.030413      0.020512         0.007496        0.000101   \n",
       "10       1.112816      0.022120         0.008269        0.001168   \n",
       "11       1.129159      0.036413         0.008013        0.000872   \n",
       "12       1.093498      0.007660         0.008028        0.001078   \n",
       "13       1.084863      0.008287         0.007842        0.000565   \n",
       "14       1.093633      0.012549         0.007490        0.000132   \n",
       "\n",
       "                                      param_regressor param_regressor__alpha  \\\n",
       "0   Ridge(alpha=1.0, copy_X=True, fit_intercept=Tr...                 0.0001   \n",
       "1   Ridge(alpha=1.0, copy_X=True, fit_intercept=Tr...                  0.001   \n",
       "2   Ridge(alpha=1.0, copy_X=True, fit_intercept=Tr...                   0.01   \n",
       "3   Ridge(alpha=1.0, copy_X=True, fit_intercept=Tr...                    0.1   \n",
       "4   Ridge(alpha=1.0, copy_X=True, fit_intercept=Tr...                      1   \n",
       "5   Lasso(alpha=1.0, copy_X=True, fit_intercept=Tr...                    0.3   \n",
       "6   Lasso(alpha=1.0, copy_X=True, fit_intercept=Tr...                    0.5   \n",
       "7   Lasso(alpha=1.0, copy_X=True, fit_intercept=Tr...                    0.7   \n",
       "8   Lasso(alpha=1.0, copy_X=True, fit_intercept=Tr...                    0.9   \n",
       "9   Lasso(alpha=1.0, copy_X=True, fit_intercept=Tr...                      1   \n",
       "10  ElasticNet(alpha=0.01, copy_X=True, fit_interc...                    NaN   \n",
       "11  ElasticNet(alpha=0.01, copy_X=True, fit_interc...                    NaN   \n",
       "12  ElasticNet(alpha=0.01, copy_X=True, fit_interc...                    NaN   \n",
       "13  ElasticNet(alpha=0.01, copy_X=True, fit_interc...                    NaN   \n",
       "14  ElasticNet(alpha=0.01, copy_X=True, fit_interc...                    NaN   \n",
       "\n",
       "   param_regressor__l1_ratio  \\\n",
       "0                        NaN   \n",
       "1                        NaN   \n",
       "2                        NaN   \n",
       "3                        NaN   \n",
       "4                        NaN   \n",
       "5                        NaN   \n",
       "6                        NaN   \n",
       "7                        NaN   \n",
       "8                        NaN   \n",
       "9                        NaN   \n",
       "10                       0.3   \n",
       "11                       0.5   \n",
       "12                       0.7   \n",
       "13                       0.9   \n",
       "14                         1   \n",
       "\n",
       "                                               params  split0_test_score  \\\n",
       "0   {'regressor': Ridge(alpha=1.0, copy_X=True, fi...           0.019877   \n",
       "1   {'regressor': Ridge(alpha=1.0, copy_X=True, fi...           0.019877   \n",
       "2   {'regressor': Ridge(alpha=1.0, copy_X=True, fi...           0.019877   \n",
       "3   {'regressor': Ridge(alpha=1.0, copy_X=True, fi...           0.019877   \n",
       "4   {'regressor': Ridge(alpha=1.0, copy_X=True, fi...           0.019877   \n",
       "5   {'regressor': Lasso(alpha=1.0, copy_X=True, fi...           0.035293   \n",
       "6   {'regressor': Lasso(alpha=1.0, copy_X=True, fi...           0.035295   \n",
       "7   {'regressor': Lasso(alpha=1.0, copy_X=True, fi...           0.035295   \n",
       "8   {'regressor': Lasso(alpha=1.0, copy_X=True, fi...           0.035295   \n",
       "9   {'regressor': Lasso(alpha=1.0, copy_X=True, fi...           0.035295   \n",
       "10  {'regressor': ElasticNet(alpha=0.01, copy_X=Tr...           0.036794   \n",
       "11  {'regressor': ElasticNet(alpha=0.01, copy_X=Tr...           0.036986   \n",
       "12  {'regressor': ElasticNet(alpha=0.01, copy_X=Tr...           0.036996   \n",
       "13  {'regressor': ElasticNet(alpha=0.01, copy_X=Tr...           0.036493   \n",
       "14  {'regressor': ElasticNet(alpha=0.01, copy_X=Tr...           0.035293   \n",
       "\n",
       "    split1_test_score  ...  mean_test_score  std_test_score  rank_test_score  \\\n",
       "0            0.211965  ...         0.343376        0.196187               12   \n",
       "1            0.211965  ...         0.343376        0.196187               11   \n",
       "2            0.211965  ...         0.343376        0.196187               13   \n",
       "3            0.211965  ...         0.343376        0.196187               14   \n",
       "4            0.211965  ...         0.343376        0.196187               15   \n",
       "5            0.307161  ...         0.472286        0.263208                9   \n",
       "6            0.307156  ...         0.472297        0.263219                8   \n",
       "7            0.307154  ...         0.472307        0.263229                7   \n",
       "8            0.307149  ...         0.472316        0.263238                6   \n",
       "9            0.307146  ...         0.472324        0.263246                5   \n",
       "10           0.293061  ...         0.474246        0.266919                4   \n",
       "11           0.296631  ...         0.476997        0.268090                3   \n",
       "12           0.300775  ...         0.478838        0.268543                1   \n",
       "13           0.305361  ...         0.477823        0.267056                2   \n",
       "14           0.307164  ...         0.472272        0.263195               10   \n",
       "\n",
       "    split0_train_score  split1_train_score  split2_train_score  \\\n",
       "0             0.376474            0.161217            0.151325   \n",
       "1             0.376474            0.161217            0.151325   \n",
       "2             0.376474            0.161217            0.151325   \n",
       "3             0.376474            0.161217            0.151325   \n",
       "4             0.376474            0.161217            0.151325   \n",
       "5             0.586856            0.272067            0.255662   \n",
       "6             0.586856            0.272067            0.255662   \n",
       "7             0.586856            0.272067            0.255662   \n",
       "8             0.586856            0.272067            0.255662   \n",
       "9             0.586856            0.272067            0.255662   \n",
       "10            0.561298            0.259752            0.243403   \n",
       "11            0.568502            0.263320            0.246943   \n",
       "12            0.576157            0.267104            0.250644   \n",
       "13            0.583754            0.270789            0.254215   \n",
       "14            0.586856            0.272067            0.255662   \n",
       "\n",
       "    split3_train_score  split4_train_score  mean_train_score  std_train_score  \n",
       "0             0.133148            0.148386          0.194110         0.091625  \n",
       "1             0.133148            0.148386          0.194110         0.091625  \n",
       "2             0.133148            0.148386          0.194110         0.091625  \n",
       "3             0.133148            0.148386          0.194110         0.091625  \n",
       "4             0.133148            0.148386          0.194110         0.091625  \n",
       "5             0.240896            0.250355          0.321167         0.133229  \n",
       "6             0.240896            0.250355          0.321167         0.133229  \n",
       "7             0.240896            0.250355          0.321167         0.133229  \n",
       "8             0.240896            0.250355          0.321167         0.133229  \n",
       "9             0.240896            0.250355          0.321167         0.133229  \n",
       "10            0.227206            0.238521          0.306036         0.128060  \n",
       "11            0.231039            0.241997          0.310360         0.129489  \n",
       "12            0.235185            0.245665          0.314951         0.131009  \n",
       "13            0.239337            0.249172          0.319454         0.132542  \n",
       "14            0.240896            0.250355          0.321167         0.133229  \n",
       "\n",
       "[15 rows x 23 columns]"
      ]
     },
     "execution_count": 18,
     "metadata": {},
     "output_type": "execute_result"
    }
   ],
   "source": [
    "results_grid_all"
   ]
  },
  {
   "cell_type": "markdown",
   "metadata": {},
   "source": [
    "#### We can see that tuning the parameters using GridSearchCV improved the cross validation accuracy drastically by comparing the test scores using GridSearchCV to the accuracy scores obtained without using parameter tuning."
   ]
  },
  {
   "cell_type": "code",
   "execution_count": 26,
   "metadata": {},
   "outputs": [
    {
     "data": {
      "image/png": "[encoded data removed]",
      "text/plain": [
       "<Figure size 1080x360 with 4 Axes>"
      ]
     },
     "metadata": {
      "needs_background": "light"
     },
     "output_type": "display_data"
    }
   ],
   "source": [
    "fig, ax = plt.subplots(1,4, figsize = (15, 5))\n",
    "fig.subplots_adjust(hspace=1.5)\n",
    "ax[0].plot([0.0001, 0.001, 0.01, 0.1, 1], 'mean_test_score', data = results_grid_all[0:5])\n",
    "ax[0].title.set_text('Ridge')\n",
    "ax[0].set_xlabel('Mean Test Score')\n",
    "ax[0].set_ylabel('Alpha')\n",
    "ax[1].plot([0.3, 0.5, 0.7, .9, 1], 'mean_test_score', data = results_grid_all[5:10])\n",
    "ax[1].title.set_text('Lasso')\n",
    "ax[1].set_xlabel('Mean Test Score')\n",
    "ax[1].set_ylabel('Alpha')\n",
    "ax[2].plot([0.3, 0.5, 0.7, .9, 1], 'mean_test_score', data = results_grid_all[10:])\n",
    "ax[2].title.set_text('ElasticNet_Alpha')\n",
    "ax[2].set_xlabel('Mean Test Score')\n",
    "ax[2].set_ylabel('Alpha')\n",
    "ax[3].plot([0.0001, 0.001, 0.01, 0.1, 1], 'mean_test_score', data = results_grid_a )\n",
    "ax[3].title.set_text('ElasticNet_L1_ratio')\n",
    "ax[3].set_xlabel('Mean Test Score')\n",
    "ax[3].set_ylabel('L1_ratio')\n",
    "plt.tight_layout()\n",
    "plt.show()"
   ]
  },
  {
   "cell_type": "markdown",
   "metadata": {},
   "source": [
    "### 1.6 Visualize the 20 most important coefficients of the resulting models. Do they agree on which features are important?"
   ]
  },
  {
   "cell_type": "code",
   "execution_count": 20,
   "metadata": {},
   "outputs": [
    {
     "name": "stdout",
     "output_type": "stream",
     "text": [
      "[ 15  63  75 108  46  14  60  64  61  92  30  16  52  59   3   4  10  95\n",
      "   2   0]\n"
     ]
    }
   ],
   "source": [
    "pipe_r = Pipeline([(\"Preprocessor\", preprocess),\n",
    "                   (\"scaler\", Ridge(alpha = 0.01))]).fit(X_train, y_train)\n",
    "model_r = pipe_r[-1].coef_\n",
    "best_coeff_r = np.argpartition(abs(model_r), -20)[-20:]\n",
    "print(best_coeff_r)"
   ]
  },
  {
   "cell_type": "code",
   "execution_count": 21,
   "metadata": {},
   "outputs": [
    {
     "data": {
      "text/plain": [
       "Text(0.5, 0, 'Column Index')"
      ]
     },
     "execution_count": 21,
     "metadata": {},
     "output_type": "execute_result"
    },
    {
     "data": {
      "image/png": "[encoded data removed]",
      "text/plain": [
       "<Figure size 432x288 with 1 Axes>"
      ]
     },
     "metadata": {
      "needs_background": "light"
     },
     "output_type": "display_data"
    }
   ],
   "source": [
    "ax = plt.bar(best_coeff_r, model_r[best_coeff_r])\n",
    "plt.title('Ridge Regression 20 Most Important Coefficients')\n",
    "plt.ylabel('Ridge Reg Coefficients')\n",
    "plt.xlabel('Column Index')"
   ]
  },
  {
   "cell_type": "code",
   "execution_count": 22,
   "metadata": {},
   "outputs": [
    {
     "name": "stdout",
     "output_type": "stream",
     "text": [
      "[177  73 151 101  38  83 103  82  50 163  43 108  21  39 158 157 178 179\n",
      " 124 153]\n"
     ]
    }
   ],
   "source": [
    "pipe_l = Pipeline([(\"Preprocessor\", preprocess),\n",
    "                   (\"scaler\",Lasso(alpha = 1))]).fit(X_train, y_train)\n",
    "model_l = pipe_l[-1].coef_\n",
    "best_coeff_l = np.argpartition(abs(model_l), -20)[-20:]\n",
    "print(best_coeff_l)"
   ]
  },
  {
   "cell_type": "code",
   "execution_count": 23,
   "metadata": {},
   "outputs": [
    {
     "data": {
      "text/plain": [
       "Text(0.5, 0, 'Column Index')"
      ]
     },
     "execution_count": 23,
     "metadata": {},
     "output_type": "execute_result"
    },
    {
     "data": {
      "image/png": "[encoded data removed]",
      "text/plain": [
       "<Figure size 432x288 with 1 Axes>"
      ]
     },
     "metadata": {
      "needs_background": "light"
     },
     "output_type": "display_data"
    }
   ],
   "source": [
    "ax = plt.bar(best_coeff_l, model_l[best_coeff_l])\n",
    "plt.title('Lasso Regression 20 Most Important Coefficients')\n",
    "plt.ylabel('Lasso Reg Coefficients')\n",
    "plt.xlabel('Column Index')"
   ]
  },
  {
   "cell_type": "code",
   "execution_count": 24,
   "metadata": {},
   "outputs": [
    {
     "name": "stdout",
     "output_type": "stream",
     "text": [
      "[ 38 163  64 158 157 130 154  51 153  50  82  83  95 108 176  39 124 179\n",
      " 131 129]\n"
     ]
    }
   ],
   "source": [
    "pipe_e = Pipeline([(\"Preprocessor\", preprocess),\n",
    "                   (\"scaler\", ElasticNet(alpha = 0.01, l1_ratio = 0.7))]).fit(X_train, y_train)\n",
    "model_e = pipe_e[-1].coef_\n",
    "best_coeff_e = np.argpartition(abs(model_e), -20)[-20:]\n",
    "print(best_coeff_e)"
   ]
  },
  {
   "cell_type": "code",
   "execution_count": 25,
   "metadata": {},
   "outputs": [
    {
     "data": {
      "text/plain": [
       "Text(0.5, 0, 'Column Index')"
      ]
     },
     "execution_count": 25,
     "metadata": {},
     "output_type": "execute_result"
    },
    {
     "data": {
      "image/png": "[encoded data removed]",
      "text/plain": [
       "<Figure size 432x288 with 1 Axes>"
      ]
     },
     "metadata": {
      "needs_background": "light"
     },
     "output_type": "display_data"
    }
   ],
   "source": [
    "ax = plt.bar(best_coeff_e, model_e[best_coeff_e])\n",
    "plt.title('ElasticNet 20 Most Important Coefficients')\n",
    "plt.ylabel('Elastic Net Coefficients')\n",
    "plt.xlabel('Column Index')"
   ]
  },
  {
   "cell_type": "markdown",
   "metadata": {},
   "source": [
    "#### From the distributions above, we can see that the models differed on which features are important. Ridge Regression seemed highly skewed in its evaluation of features whereas Lasso and ElasticNet seem more evenly spread out."
   ]
  }
 ],
 "metadata": {
  "kernelspec": {
   "display_name": "Python 3",
   "language": "python",
   "name": "python3"
  },
  "language_info": {
   "codemirror_mode": {
    "name": "ipython",
    "version": 3
   },
   "file_extension": ".py",
   "mimetype": "text/x-python",
   "name": "python",
   "nbconvert_exporter": "python",
   "pygments_lexer": "ipython3",
   "version": "3.7.4"
  }
 },
 "nbformat": 4,
 "nbformat_minor": 2
}
